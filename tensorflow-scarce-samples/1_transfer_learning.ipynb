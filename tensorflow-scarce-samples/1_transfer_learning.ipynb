{
  "nbformat": 4,
  "nbformat_minor": 0,
  "metadata": {
    "colab": {
      "name": "1_transfer-learning",
      "version": "0.3.2",
      "provenance": [],
      "collapsed_sections": []
    },
    "kernelspec": {
      "name": "python3",
      "display_name": "Python 3"
    },
    "accelerator": "GPU"
  },
  "cells": [
    {
      "cell_type": "code",
      "metadata": {
        "id": "yuNuyFrh-tya",
        "colab_type": "code",
        "colab": {}
      },
      "source": [
        "!pip freeze | grep tensorflow=="
      ],
      "execution_count": 0,
      "outputs": []
    },
    {
      "cell_type": "code",
      "metadata": {
        "id": "iMTELvy4MUHn",
        "colab_type": "code",
        "colab": {}
      },
      "source": [
        "!wget https://dft-datasets.s3.us-east-2.amazonaws.com/catalog_images.zip\n",
        "!mkdir data\n",
        "!unzip -q catalog_images.zip -d data"
      ],
      "execution_count": 0,
      "outputs": []
    },
    {
      "cell_type": "code",
      "metadata": {
        "id": "Xnavenk_9v29",
        "colab_type": "code",
        "colab": {}
      },
      "source": [
        "!ls data/train/Blusas/ | wc -l"
      ],
      "execution_count": 0,
      "outputs": []
    },
    {
      "cell_type": "code",
      "metadata": {
        "id": "QxMWues5A65_",
        "colab_type": "code",
        "colab": {}
      },
      "source": [
        "import pandas as pd\n",
        "import numpy as np\n",
        "import os\n",
        "import keras\n",
        "import matplotlib.pyplot as plt\n",
        "from tensorflow.keras.layers import Dense, GlobalAveragePooling2D\n",
        "from tensorflow.keras.applications import MobileNet\n",
        "from tensorflow.keras.applications.resnet50 import ResNet50 \n",
        "from tensorflow.keras.applications.mobilenet import preprocess_input as mobile_prep\n",
        "from tensorflow.keras.applications.resnet50 import preprocess_input as resnet_prep\n",
        "from tensorflow.keras.preprocessing.image import ImageDataGenerator\n",
        "from tensorflow.keras.models import Model\n",
        "from tensorflow.keras.optimizers import Adam"
      ],
      "execution_count": 0,
      "outputs": []
    },
    {
      "cell_type": "code",
      "metadata": {
        "id": "MHHiH_NpzjnF",
        "colab_type": "code",
        "colab": {}
      },
      "source": [
        "def experiment(transfer_learning, nn, preprocess_input):\n",
        "  if transfer_learning:\n",
        "    base_model=nn(weights='imagenet', include_top=False, input_shape=(224, 224, 3)) #imports the mobilenet model and discards the last 1000 neuron layer.\n",
        "  else:\n",
        "    base_model=nn(weights=None, include_top=False, input_shape=(224, 224, 3))\n",
        "\n",
        "  x=base_model.output\n",
        "  x=GlobalAveragePooling2D()(x)\n",
        "  x=Dense(1024, activation='relu')(x) #we add dense layers so that the model can learn more complex functions and classify for better results.\n",
        "  x=Dense(1024, activation='relu')(x) #dense layer 2\n",
        "  x=Dense(512, activation='relu')(x) #dense layer 3\n",
        "  preds=Dense(10, activation='softmax')(x) #final layer with softmax activation\n",
        "  \n",
        "  \n",
        "  model=Model(inputs=base_model.input,outputs=preds)\n",
        "  \n",
        "  if transfer_learning:\n",
        "    for layer in model.layers[:20]:\n",
        "        layer.trainable=False\n",
        "    for layer in model.layers[20:]:\n",
        "        layer.trainable=True\n",
        "  \n",
        "  train_datagen=ImageDataGenerator(preprocessing_function=preprocess_input) #included in our dependencies\n",
        "\n",
        "  train_generator=train_datagen.flow_from_directory('./data/train/', # this is where you specify the path to the main data folder\n",
        "                                                 target_size=(224,224),\n",
        "                                                 color_mode='rgb',\n",
        "                                                 batch_size=16,\n",
        "                                                 class_mode='categorical',\n",
        "                                                 shuffle=True)\n",
        "  eval_generator=train_datagen.flow_from_directory('./data/eval/', # this is where you specify the path to the main data folder\n",
        "                                                 target_size=(224,224),\n",
        "                                                 color_mode='rgb',\n",
        "                                                 batch_size=16,\n",
        "                                                 class_mode='categorical',\n",
        "                                                 shuffle=True)\n",
        "  \n",
        "  model.compile(optimizer=Adam(lr=0.00002),loss='categorical_crossentropy',metrics=['accuracy'])\n",
        "  # Adam optimizer\n",
        "  # loss function will be categorical cross entropy\n",
        "  # evaluation metric will be accuracy\n",
        "\n",
        "  step_size_train=train_generator.n//train_generator.batch_size\n",
        "  step_size_eval=eval_generator.n//eval_generator.batch_size\n",
        "  model.fit_generator(generator=train_generator,\n",
        "                     steps_per_epoch=step_size_train,\n",
        "                     validation_data=eval_generator, \n",
        "                     validation_steps=step_size_eval,\n",
        "                     epochs=5, verbose=1)"
      ],
      "execution_count": 0,
      "outputs": []
    },
    {
      "cell_type": "code",
      "metadata": {
        "id": "twfBCJzhJY41",
        "colab_type": "code",
        "colab": {}
      },
      "source": [
        "experiment(False, MobileNet, mobile_prep)\n",
        "experiment(True, MobileNet, mobile_prep)"
      ],
      "execution_count": 0,
      "outputs": []
    },
    {
      "cell_type": "code",
      "metadata": {
        "id": "_yxled6EJVYC",
        "colab_type": "code",
        "colab": {}
      },
      "source": [
        "experiment(False, ResNet50, resnet_prep)\n",
        "experiment(True, ResNet50, resnet_prep)"
      ],
      "execution_count": 0,
      "outputs": []
    }
  ]
}