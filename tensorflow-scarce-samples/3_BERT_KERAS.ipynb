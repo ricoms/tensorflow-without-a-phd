{
  "nbformat": 4,
  "nbformat_minor": 0,
  "metadata": {
    "colab": {
      "name": "BERT_KERAS_OK.ipynb",
      "version": "0.3.2",
      "provenance": [],
      "private_outputs": true,
      "collapsed_sections": [],
      "toc_visible": true
    },
    "language_info": {
      "codemirror_mode": {
        "name": "ipython",
        "version": 3
      },
      "file_extension": ".py",
      "mimetype": "text/x-python",
      "name": "python",
      "nbconvert_exporter": "python",
      "pygments_lexer": "ipython3",
      "version": "3.6.8"
    },
    "kernelspec": {
      "display_name": "Python 3",
      "language": "python",
      "name": "python3"
    },
    "accelerator": "GPU"
  },
  "cells": [
    {
      "cell_type": "code",
      "metadata": {
        "id": "emYiHOfzoKjP",
        "colab_type": "code",
        "colab": {}
      },
      "source": [
        "!pip install -U pip\n",
        "!pip install -U pandas\n",
        "!pip install -U scikit-learn\n",
        "!pip install -U keras\n",
        "!pip install -U keras-bert"
      ],
      "execution_count": 0,
      "outputs": []
    },
    {
      "cell_type": "code",
      "metadata": {
        "id": "eFy0RTkQnS_U",
        "colab_type": "code",
        "colab": {}
      },
      "source": [
        "import pandas as pd\n",
        "import numpy as np\n",
        "from pprint import pprint"
      ],
      "execution_count": 0,
      "outputs": []
    },
    {
      "cell_type": "code",
      "metadata": {
        "id": "SYJgcep3nS_Z",
        "colab_type": "code",
        "colab": {}
      },
      "source": [
        "%matplotlib inline\n",
        "import seaborn as sns\n",
        "from matplotlib import pyplot as plt"
      ],
      "execution_count": 0,
      "outputs": []
    },
    {
      "cell_type": "code",
      "metadata": {
        "id": "8ozQ7cqknS_c",
        "colab_type": "code",
        "colab": {}
      },
      "source": [
        "import logging\n",
        "logging.basicConfig(level=logging.INFO)"
      ],
      "execution_count": 0,
      "outputs": []
    },
    {
      "cell_type": "code",
      "metadata": {
        "colab_type": "code",
        "id": "rjRzzcgLK4T6",
        "colab": {}
      },
      "source": [
        "from tqdm import autonotebook as tqdm"
      ],
      "execution_count": 0,
      "outputs": []
    },
    {
      "cell_type": "code",
      "metadata": {
        "id": "Xd1OqRLQnS_m",
        "colab_type": "code",
        "colab": {}
      },
      "source": [
        "MAX_LEN = 256"
      ],
      "execution_count": 0,
      "outputs": []
    },
    {
      "cell_type": "code",
      "metadata": {
        "id": "wQ6MSKBE5oQk",
        "colab_type": "code",
        "colab": {}
      },
      "source": [
        "#### Downloading Datasets\n",
        "!wget https://dft-datasets.s3.us-east-2.amazonaws.com/ratings.zip\n",
        "!wget https://dft-datasets.s3.us-east-2.amazonaws.com/insults.zip\n",
        "  \n",
        "!unzip ratings.zip\n",
        "!unzip insults.zip"
      ],
      "execution_count": 0,
      "outputs": []
    },
    {
      "cell_type": "code",
      "metadata": {
        "id": "iqTxZ0225qWG",
        "colab_type": "code",
        "colab": {}
      },
      "source": [
        ""
      ],
      "execution_count": 0,
      "outputs": []
    },
    {
      "cell_type": "markdown",
      "metadata": {
        "id": "PCRBG4rvnS_o",
        "colab_type": "text"
      },
      "source": [
        "### Download Model Assets"
      ]
    },
    {
      "cell_type": "code",
      "metadata": {
        "id": "skVkgtMZnS_p",
        "colab_type": "code",
        "colab": {}
      },
      "source": [
        "from keras_bert import get_pretrained, PretrainedList, \\\n",
        "                       get_checkpoint_paths"
      ],
      "execution_count": 0,
      "outputs": []
    },
    {
      "cell_type": "code",
      "metadata": {
        "id": "KDT-IVodnS_r",
        "colab_type": "code",
        "colab": {}
      },
      "source": [
        "paths = get_pretrained(PretrainedList.multi_cased_base)"
      ],
      "execution_count": 0,
      "outputs": []
    },
    {
      "cell_type": "code",
      "metadata": {
        "id": "NbIWsilGnS_t",
        "colab_type": "code",
        "colab": {}
      },
      "source": [
        "checkpoint_paths = get_checkpoint_paths(paths)"
      ],
      "execution_count": 0,
      "outputs": []
    },
    {
      "cell_type": "code",
      "metadata": {
        "id": "0B54gZDvnS_w",
        "colab_type": "code",
        "colab": {}
      },
      "source": [
        "with open(checkpoint_paths.vocab) as file:\n",
        "    token_dict = {\n",
        "        token.strip(): k\n",
        "        for k, token in enumerate(file.readlines())\n",
        "    }\n",
        "    "
      ],
      "execution_count": 0,
      "outputs": []
    },
    {
      "cell_type": "markdown",
      "metadata": {
        "id": "2m9CqhjMnS_y",
        "colab_type": "text"
      },
      "source": [
        "### Tokenizer + Preparation of the dataset"
      ]
    },
    {
      "cell_type": "code",
      "metadata": {
        "id": "AYUggWfKnS_y",
        "colab_type": "code",
        "colab": {}
      },
      "source": [
        "from keras_bert import Tokenizer"
      ],
      "execution_count": 0,
      "outputs": []
    },
    {
      "cell_type": "code",
      "metadata": {
        "id": "E8tHEVQ7nS_0",
        "colab_type": "code",
        "colab": {}
      },
      "source": [
        "tokenizer = Tokenizer(token_dict, cased=True)"
      ],
      "execution_count": 0,
      "outputs": []
    },
    {
      "cell_type": "code",
      "metadata": {
        "id": "vXkFuPpxnS_4",
        "colab_type": "code",
        "colab": {}
      },
      "source": [
        "tokenizer.encode(\"Rafael Sola de Paula\", max_len=5)"
      ],
      "execution_count": 0,
      "outputs": []
    },
    {
      "cell_type": "code",
      "metadata": {
        "id": "EF8E_8fEnS_6",
        "colab_type": "code",
        "colab": {}
      },
      "source": [
        "sample_text = \"Did you ever hear the tragedy of Darth Plagueis The Wise? I thought not. It's not a story the Jedi would tell you. It's a Sith legend. Darth Plagueis was a Dark Lord of the Sith, so powerful and so wise he could use the Force to influence the midichlorians to create life… He had such a knowledge of the dark side that he could even keep the ones he cared about from dying. The dark side of the Force is a pathway to many abilities some consider to be unnatural. He became so powerful… the only thing he was afraid of was losing his power, which eventually, of course, he did. Unfortunately, he taught his apprentice everything he knew, then his apprentice killed him in his sleep. Ironic. He could save others from death, but not himself.\"\n",
        "pprint(sample_text, width=120)"
      ],
      "execution_count": 0,
      "outputs": []
    },
    {
      "cell_type": "code",
      "metadata": {
        "id": "rRPgIYWbnS_8",
        "colab_type": "code",
        "colab": {}
      },
      "source": [
        "tokens = tokenizer.tokenize(sample_text)\n",
        "pprint(tokens, width=120, compact=True)"
      ],
      "execution_count": 0,
      "outputs": []
    },
    {
      "cell_type": "code",
      "metadata": {
        "id": "plb1j-RIpa6s",
        "colab_type": "code",
        "colab": {}
      },
      "source": [
        "token_indices, _ = tokenizer.encode(sample_text, max_len=10)\n",
        "pprint(token_indices, width=120, compact=True)"
      ],
      "execution_count": 0,
      "outputs": []
    },
    {
      "cell_type": "code",
      "metadata": {
        "id": "iHXHRyUGnS_-",
        "colab_type": "code",
        "colab": {}
      },
      "source": [
        "token_indices, _ = tokenizer.encode(sample_text, max_len=256)\n",
        "pprint(token_indices, width=120, compact=True)"
      ],
      "execution_count": 0,
      "outputs": []
    },
    {
      "cell_type": "code",
      "metadata": {
        "colab_type": "code",
        "id": "tAxzBh6VFkZD",
        "colab": {}
      },
      "source": [
        "# train_set = pd.read_csv(\"ratings_train.csv\")\n",
        "# test_set = pd.read_csv(\"ratings_test.csv\")\n",
        "\n",
        "train_set = pd.read_csv(\"insults_train.csv\")\n",
        "test_set = pd.read_csv(\"insults_test.csv\")"
      ],
      "execution_count": 0,
      "outputs": []
    },
    {
      "cell_type": "code",
      "metadata": {
        "colab_type": "code",
        "id": "ojaAVFQeFnkL",
        "colab": {}
      },
      "source": [
        "train_set.head()"
      ],
      "execution_count": 0,
      "outputs": []
    },
    {
      "cell_type": "code",
      "metadata": {
        "colab_type": "code",
        "id": "yhhLuDVoH8cl",
        "colab": {}
      },
      "source": [
        "def prepare_dataset(dataframe, tokenizer, max_length):\n",
        "    size = len(dataframe)\n",
        "    X = np.zeros((size, max_length))\n",
        "    y = np.zeros((size,))\n",
        "    examples = tqdm.tqdm(dataframe.iterrows(), total=size)\n",
        "\n",
        "    for k, (_, (text, label)) in enumerate(examples):\n",
        "        tokens, _ = tokenizer.encode(text, max_len=max_length)\n",
        "        X[k, :] = tokens\n",
        "        y[k] = label\n",
        "    return X, y\n",
        "\n"
      ],
      "execution_count": 0,
      "outputs": []
    },
    {
      "cell_type": "code",
      "metadata": {
        "colab_type": "code",
        "id": "HKGJemRi_LI6",
        "colab": {}
      },
      "source": [
        "X_train, y_train = prepare_dataset(train_set, tokenizer, MAX_LEN)\n",
        "X_test, y_test = prepare_dataset(test_set, tokenizer, MAX_LEN)"
      ],
      "execution_count": 0,
      "outputs": []
    },
    {
      "cell_type": "code",
      "metadata": {
        "id": "AuJF1i97nTAM",
        "colab_type": "code",
        "colab": {}
      },
      "source": [
        "X_train"
      ],
      "execution_count": 0,
      "outputs": []
    },
    {
      "cell_type": "markdown",
      "metadata": {
        "id": "32SHEClBnTAO",
        "colab_type": "text"
      },
      "source": [
        "### Baseline 1 - Random Forest"
      ]
    },
    {
      "cell_type": "code",
      "metadata": {
        "id": "H-KJh1IOnTAO",
        "colab_type": "code",
        "colab": {}
      },
      "source": [
        "from sklearn.feature_extraction.text import TfidfTransformer\n",
        "from sklearn.ensemble import RandomForestClassifier\n",
        "from sklearn.metrics import classification_report, roc_auc_score, precision_recall_curve, roc_curve\n",
        "from sklearn import metrics"
      ],
      "execution_count": 0,
      "outputs": []
    },
    {
      "cell_type": "code",
      "metadata": {
        "id": "roBQ6tlPnTAR",
        "colab_type": "code",
        "colab": {}
      },
      "source": [
        "tf_idf = TfidfTransformer()\n",
        "tf_idf_train = tf_idf.fit_transform(X_train)\n",
        "tf_idf_test = tf_idf.transform(X_test)"
      ],
      "execution_count": 0,
      "outputs": []
    },
    {
      "cell_type": "code",
      "metadata": {
        "id": "k--ndMAPnTAT",
        "colab_type": "code",
        "colab": {}
      },
      "source": [
        "clf = RandomForestClassifier(n_estimators=1000, max_depth=5, class_weight='balanced')\n",
        "clf.fit(tf_idf_train, y_train)"
      ],
      "execution_count": 0,
      "outputs": []
    },
    {
      "cell_type": "code",
      "metadata": {
        "id": "LVXNkUAUnTAU",
        "colab_type": "code",
        "colab": {}
      },
      "source": [
        "y_pred = clf.predict(tf_idf_test)\n",
        "s_pred = clf.predict_proba(tf_idf_test)[:, 1]"
      ],
      "execution_count": 0,
      "outputs": []
    },
    {
      "cell_type": "code",
      "metadata": {
        "id": "OryA7Wu4nTAW",
        "colab_type": "code",
        "colab": {}
      },
      "source": [
        "print(classification_report(y_test, y_pred))\n",
        "print(roc_auc_score(y_test, s_pred))"
      ],
      "execution_count": 0,
      "outputs": []
    },
    {
      "cell_type": "code",
      "metadata": {
        "id": "epz_E3-GxAZ7",
        "colab_type": "code",
        "colab": {}
      },
      "source": [
        "thresholds = np.linspace(s_pred.min(), s_pred.max()-1e-10, 101)\n",
        "precision = np.array([metrics.precision_score(y_test, s_pred > threshold) for threshold in thresholds])\n",
        "recall = np.array([metrics.recall_score(y_test, s_pred > threshold) for threshold in thresholds])\n",
        "f1 = np.array([metrics.f1_score(y_test, s_pred > threshold) for threshold in thresholds])\n",
        "tpr = np.array([(s_pred[y_test == 1] > threshold).mean() for threshold in thresholds])\n",
        "fpr = np.array([(s_pred[y_test == 0] > threshold).mean() for threshold in thresholds])\n",
        "\n",
        "best_f1 = thresholds[f1.argmax()]\n",
        "print(classification_report(y_test, (s_pred > best_f1).astype(int)))"
      ],
      "execution_count": 0,
      "outputs": []
    },
    {
      "cell_type": "code",
      "metadata": {
        "id": "AWzfA0gpxENt",
        "colab_type": "code",
        "colab": {}
      },
      "source": [
        "fig = plt.figure(figsize=(12, 8))\n",
        "ax = fig.add_subplot(221)\n",
        "ax.set_title(f\"Recall x Precision\")\n",
        "ax.plot(precision, recall)\n",
        "\n",
        "ax = fig.add_subplot(222)\n",
        "ax.set_title(\"\")\n",
        "ax.plot(thresholds, precision, label=\"Precision\", color=\"green\")\n",
        "ax.plot(thresholds, recall, label=\"Recall\", color=\"blue\")\n",
        "ax.plot(thresholds, f1, label=\"F1\", color=\"red\")\n",
        "ax.set_xlim(0, 1)\n",
        "ax.legend()\n",
        "\n",
        "ax = fig.add_subplot(223)\n",
        "ax.set_title(f\"ROC Curve - AUC\")\n",
        "ax.plot(fpr, tpr)\n",
        "\n",
        "ax = fig.add_subplot(224)\n",
        "ax.set_title(\"Positive Rates\")\n",
        "ax.plot(thresholds, tpr, label=\"TPR\")\n",
        "ax.plot(thresholds, fpr, label=\"FPR\")\n",
        "ax.set_xlim(0, 1)\n",
        "ax.legend()\n",
        "ax.axvline(0.57363415, color='k', ls='--')\n",
        "\n",
        "\n",
        "fig.tight_layout()"
      ],
      "execution_count": 0,
      "outputs": []
    },
    {
      "cell_type": "markdown",
      "metadata": {
        "id": "lVBWPQLonTAX",
        "colab_type": "text"
      },
      "source": [
        "### Baseline - LSTM"
      ]
    },
    {
      "cell_type": "code",
      "metadata": {
        "id": "P4TWLyNinTAY",
        "colab_type": "code",
        "colab": {}
      },
      "source": [
        "from keras.models import Sequential\n",
        "from keras.layers import LSTM, Dense, Embedding\n",
        "from keras.optimizers import Adam"
      ],
      "execution_count": 0,
      "outputs": []
    },
    {
      "cell_type": "code",
      "metadata": {
        "id": "Lu-b_o92nTAa",
        "colab_type": "code",
        "colab": {}
      },
      "source": [
        "model = Sequential([\n",
        "    Embedding(len(token_dict), 16, input_length=MAX_LEN),\n",
        "    LSTM(8, activation=\"relu\", return_sequences=True),\n",
        "    LSTM(4, activation=\"relu\", return_sequences=False),\n",
        "    Dense(1, activation=\"sigmoid\")\n",
        "])"
      ],
      "execution_count": 0,
      "outputs": []
    },
    {
      "cell_type": "code",
      "metadata": {
        "id": "vnynh9X8nTAc",
        "colab_type": "code",
        "colab": {}
      },
      "source": [
        "\n",
        "model.compile(\"adam\", loss=\"binary_crossentropy\", metrics=[\"accuracy\"])"
      ],
      "execution_count": 0,
      "outputs": []
    },
    {
      "cell_type": "code",
      "metadata": {
        "id": "fIE0KG5KnTAe",
        "colab_type": "code",
        "colab": {}
      },
      "source": [
        "model.fit(X_train, y_train, validation_data=(X_test, y_test), epochs=10)"
      ],
      "execution_count": 0,
      "outputs": []
    },
    {
      "cell_type": "code",
      "metadata": {
        "id": "Nr9PmoiVxN_b",
        "colab_type": "code",
        "colab": {}
      },
      "source": [
        "s_pred = model.predict_proba(X_test)[:, 0]\n",
        "y_pred = model.predict_classes(X_test)[:, 0]"
      ],
      "execution_count": 0,
      "outputs": []
    },
    {
      "cell_type": "code",
      "metadata": {
        "id": "oNRkP9PpnTAg",
        "colab_type": "code",
        "colab": {}
      },
      "source": [
        "print(classification_report(y_test, y_pred))\n",
        "print(roc_auc_score(y_test, s_pred))"
      ],
      "execution_count": 0,
      "outputs": []
    },
    {
      "cell_type": "code",
      "metadata": {
        "id": "6GTN-Bm-vHWH",
        "colab_type": "code",
        "colab": {}
      },
      "source": [
        "thresholds = np.linspace(s_pred.min() + 1e-5, s_pred.max() - 1e-5, 101)\n",
        "precision = np.array([metrics.precision_score(y_test, s_pred > threshold) for threshold in thresholds])\n",
        "recall = np.array([metrics.recall_score(y_test, s_pred > threshold) for threshold in thresholds])\n",
        "f1 = np.array([metrics.f1_score(y_test, s_pred > threshold) for threshold in thresholds])\n",
        "tpr = np.array([(s_pred[y_test == 1] > threshold).mean() for threshold in thresholds])\n",
        "fpr = np.array([(s_pred[y_test == 0] > threshold).mean() for threshold in thresholds])\n",
        "\n",
        "best_f1 = thresholds[f1.argmax()]\n",
        "print(classification_report(y_test, (s_pred > best_f1).astype(int)))"
      ],
      "execution_count": 0,
      "outputs": []
    },
    {
      "cell_type": "code",
      "metadata": {
        "id": "hnHz95pBvLM5",
        "colab_type": "code",
        "colab": {}
      },
      "source": [
        "fig = plt.figure(figsize=(12, 8))\n",
        "ax = fig.add_subplot(221)\n",
        "ax.set_title(f\"Recall x Precision\")\n",
        "ax.plot(precision, recall)\n",
        "\n",
        "ax = fig.add_subplot(222)\n",
        "ax.set_title(\"\")\n",
        "ax.plot(thresholds, precision, label=\"Precision\", color=\"green\")\n",
        "ax.plot(thresholds, recall, label=\"Recall\", color=\"blue\")\n",
        "ax.plot(thresholds, f1, label=\"F1\", color=\"red\")\n",
        "ax.set_xlim(0, 1)\n",
        "ax.legend()\n",
        "\n",
        "ax = fig.add_subplot(223)\n",
        "ax.set_title(f\"ROC Curve - AUC\")\n",
        "ax.plot(fpr, tpr)\n",
        "\n",
        "ax = fig.add_subplot(224)\n",
        "ax.set_title(\"Positive Rates\")\n",
        "ax.plot(thresholds, tpr, label=\"TPR\")\n",
        "ax.plot(thresholds, fpr, label=\"FPR\")\n",
        "ax.set_xlim(0, 1)\n",
        "ax.legend()\n",
        "ax.axvline(0.57363415, color='k', ls='--')\n",
        "\n",
        "\n",
        "fig.tight_layout()"
      ],
      "execution_count": 0,
      "outputs": []
    },
    {
      "cell_type": "markdown",
      "metadata": {
        "id": "dcdoHelwnTAh",
        "colab_type": "text"
      },
      "source": [
        "### BERT - Pretrained"
      ]
    },
    {
      "cell_type": "code",
      "metadata": {
        "id": "nDByebbYnTAi",
        "colab_type": "code",
        "colab": {}
      },
      "source": [
        "from keras_bert import load_trained_model_from_checkpoint"
      ],
      "execution_count": 0,
      "outputs": []
    },
    {
      "cell_type": "code",
      "metadata": {
        "id": "nMciBYECnTAj",
        "colab_type": "code",
        "colab": {}
      },
      "source": [
        "checkpoint_paths.config"
      ],
      "execution_count": 0,
      "outputs": []
    },
    {
      "cell_type": "code",
      "metadata": {
        "id": "0BwoX7a-nTAm",
        "colab_type": "code",
        "colab": {}
      },
      "source": [
        "bert = load_trained_model_from_checkpoint(\n",
        "    checkpoint_paths.config,\n",
        "    checkpoint_paths.checkpoint,\n",
        "    training=False,\n",
        "    trainable=False,\n",
        "    seq_len=MAX_LEN\n",
        ")"
      ],
      "execution_count": 0,
      "outputs": []
    },
    {
      "cell_type": "code",
      "metadata": {
        "id": "7FcZ5lI2w3ep",
        "colab_type": "code",
        "colab": {}
      },
      "source": [
        "bert.summary()"
      ],
      "execution_count": 0,
      "outputs": []
    },
    {
      "cell_type": "code",
      "metadata": {
        "id": "6m7u5BiFnTAp",
        "colab_type": "code",
        "colab": {}
      },
      "source": [
        "segments_train = np.zeros_like(X_train)\n",
        "segments_test = np.zeros_like(X_test)"
      ],
      "execution_count": 0,
      "outputs": []
    },
    {
      "cell_type": "code",
      "metadata": {
        "id": "V2wKaRXVnTAr",
        "colab_type": "code",
        "colab": {}
      },
      "source": [
        "out = bert.predict([X_train[0:5, :], segments_train[0:5]])"
      ],
      "execution_count": 0,
      "outputs": []
    },
    {
      "cell_type": "code",
      "metadata": {
        "id": "qLKecb-WnTAs",
        "colab_type": "code",
        "colab": {}
      },
      "source": [
        "out[0, :, :]"
      ],
      "execution_count": 0,
      "outputs": []
    },
    {
      "cell_type": "markdown",
      "metadata": {
        "id": "kjACwq8U0Fef",
        "colab_type": "text"
      },
      "source": [
        "### Using BERT embeddings with LSTM\n"
      ]
    },
    {
      "cell_type": "code",
      "metadata": {
        "id": "_wfKlOVX0ghr",
        "colab_type": "code",
        "colab": {}
      },
      "source": [
        "from keras.models import Model\n",
        "from keras.layers import GlobalAveragePooling1D, Input"
      ],
      "execution_count": 0,
      "outputs": []
    },
    {
      "cell_type": "code",
      "metadata": {
        "id": "k11E0pY608wl",
        "colab_type": "code",
        "colab": {}
      },
      "source": [
        "embedding_weights = bert.get_layer(\"Embedding-Token\").get_weights()"
      ],
      "execution_count": 0,
      "outputs": []
    },
    {
      "cell_type": "code",
      "metadata": {
        "id": "QWCkfvJI0L76",
        "colab_type": "code",
        "colab": {}
      },
      "source": [
        "model = Sequential([\n",
        "    Embedding(len(token_dict), 768, input_length=MAX_LEN, weights=embedding_weights),\n",
        "    LSTM(8, activation=\"relu\", return_sequences=True),\n",
        "    LSTM(4, activation=\"relu\", return_sequences=False),\n",
        "    Dense(1, activation=\"sigmoid\")\n",
        "])"
      ],
      "execution_count": 0,
      "outputs": []
    },
    {
      "cell_type": "code",
      "metadata": {
        "id": "Z_p-Q1KZ2csv",
        "colab_type": "code",
        "colab": {}
      },
      "source": [
        "model.compile(\"adam\", loss=\"binary_crossentropy\", metrics=[\"accuracy\"])"
      ],
      "execution_count": 0,
      "outputs": []
    },
    {
      "cell_type": "code",
      "metadata": {
        "id": "hwEON_qh2enM",
        "colab_type": "code",
        "colab": {}
      },
      "source": [
        "model.fit(X_train, y_train, validation_data=(X_test, y_test), epochs=10)"
      ],
      "execution_count": 0,
      "outputs": []
    },
    {
      "cell_type": "code",
      "metadata": {
        "id": "7i46XfcY2jBn",
        "colab_type": "code",
        "colab": {}
      },
      "source": [
        "s_pred = model.predict_proba(X_test)[:, 0]\n",
        "y_pred = model.predict_classes(X_test)[:, 0]"
      ],
      "execution_count": 0,
      "outputs": []
    },
    {
      "cell_type": "code",
      "metadata": {
        "id": "dn1nAcGC2nmV",
        "colab_type": "code",
        "colab": {}
      },
      "source": [
        "print(roc_auc_score(y_test, s_pred))"
      ],
      "execution_count": 0,
      "outputs": []
    },
    {
      "cell_type": "code",
      "metadata": {
        "id": "87mQ9Icd2pr3",
        "colab_type": "code",
        "colab": {}
      },
      "source": [
        "y_pred = (s_pred > 0.5).astype(int)\n",
        "print(classification_report(y_test, y_pred))"
      ],
      "execution_count": 0,
      "outputs": []
    },
    {
      "cell_type": "code",
      "metadata": {
        "id": "h-4yrBa72saE",
        "colab_type": "code",
        "colab": {}
      },
      "source": [
        "thresholds = np.linspace(s_pred.min() + 1e-5, s_pred.max() - 1e-5, 101)\n",
        "precision = np.array([metrics.precision_score(y_test, s_pred > threshold) for threshold in thresholds])\n",
        "recall = np.array([metrics.recall_score(y_test, s_pred > threshold) for threshold in thresholds])\n",
        "f1 = np.array([metrics.f1_score(y_test, s_pred > threshold) for threshold in thresholds])\n",
        "tpr = np.array([(s_pred[y_test == 1] > threshold).mean() for threshold in thresholds])\n",
        "fpr = np.array([(s_pred[y_test == 0] > threshold).mean() for threshold in thresholds])\n",
        "\n",
        "best_f1 = thresholds[f1.argmax()]\n",
        "print(classification_report(y_test, (s_pred > best_f1).astype(int)))"
      ],
      "execution_count": 0,
      "outputs": []
    },
    {
      "cell_type": "code",
      "metadata": {
        "id": "sK69oSya2vjj",
        "colab_type": "code",
        "colab": {}
      },
      "source": [
        "fig = plt.figure(figsize=(12, 8))\n",
        "ax = fig.add_subplot(221)\n",
        "ax.set_title(f\"Recall x Precision\")\n",
        "ax.plot(precision, recall)\n",
        "\n",
        "ax = fig.add_subplot(222)\n",
        "ax.set_title(\"\")\n",
        "ax.plot(thresholds, precision, label=\"Precision\", color=\"green\")\n",
        "ax.plot(thresholds, recall, label=\"Recall\", color=\"blue\")\n",
        "ax.plot(thresholds, f1, label=\"F1\", color=\"red\")\n",
        "ax.set_xlim(0, 1)\n",
        "ax.legend()\n",
        "\n",
        "ax = fig.add_subplot(223)\n",
        "ax.set_title(f\"ROC Curve - AUC\")\n",
        "ax.plot(fpr, tpr)\n",
        "\n",
        "ax = fig.add_subplot(224)\n",
        "ax.set_title(\"Positive Rates\")\n",
        "ax.plot(thresholds, tpr, label=\"TPR\")\n",
        "ax.plot(thresholds, fpr, label=\"FPR\")\n",
        "ax.set_xlim(0, 1)\n",
        "ax.legend()\n",
        "ax.axvline(0.57363415, color='k', ls='--')\n",
        "\n",
        "\n",
        "fig.tight_layout()"
      ],
      "execution_count": 0,
      "outputs": []
    },
    {
      "cell_type": "markdown",
      "metadata": {
        "id": "VNmZR3_FnTAu",
        "colab_type": "text"
      },
      "source": [
        "### Build Classifier"
      ]
    },
    {
      "cell_type": "code",
      "metadata": {
        "id": "c5MJJ6twnTAu",
        "colab_type": "code",
        "colab": {}
      },
      "source": [
        "from keras.models import Model\n",
        "from keras.layers import GlobalAveragePooling1D"
      ],
      "execution_count": 0,
      "outputs": []
    },
    {
      "cell_type": "code",
      "metadata": {
        "id": "_PVm-yXHnTAw",
        "colab_type": "code",
        "colab": {}
      },
      "source": [
        "inputs = bert.inputs\n",
        "embeddings = bert(inputs)\n",
        "flat = GlobalAveragePooling1D()(embeddings)\n",
        "output = Dense(1, activation='sigmoid')(flat)"
      ],
      "execution_count": 0,
      "outputs": []
    },
    {
      "cell_type": "code",
      "metadata": {
        "id": "yxugrc86nTAx",
        "colab_type": "code",
        "colab": {}
      },
      "source": [
        "model = Model(inputs=bert.inputs, outputs=output)"
      ],
      "execution_count": 0,
      "outputs": []
    },
    {
      "cell_type": "code",
      "metadata": {
        "id": "k4qWqn9fnTA2",
        "colab_type": "code",
        "colab": {}
      },
      "source": [
        "model.predict([X_train[0:5, :], segments_train[0:5]])"
      ],
      "execution_count": 0,
      "outputs": []
    },
    {
      "cell_type": "code",
      "metadata": {
        "id": "aL4H0oxInTA5",
        "colab_type": "code",
        "colab": {}
      },
      "source": [
        "model.compile(\"adam\", loss=\"binary_crossentropy\", metrics=[\"accuracy\"])"
      ],
      "execution_count": 0,
      "outputs": []
    },
    {
      "cell_type": "code",
      "metadata": {
        "id": "JB0q1F_EnTA8",
        "colab_type": "code",
        "colab": {}
      },
      "source": [
        "model.fit(\n",
        "    [X_train, segments_train], y_train, \n",
        "    validation_data=([X_test, segments_test], y_test),\n",
        "    epochs=50, \n",
        ")"
      ],
      "execution_count": 0,
      "outputs": []
    },
    {
      "cell_type": "code",
      "metadata": {
        "id": "qDUjM3VrnTA-",
        "colab_type": "code",
        "colab": {}
      },
      "source": [
        "s_pred = model.predict([X_test, segments_test])"
      ],
      "execution_count": 0,
      "outputs": []
    },
    {
      "cell_type": "code",
      "metadata": {
        "scrolled": true,
        "id": "uJCsKdh-nTBA",
        "colab_type": "code",
        "colab": {}
      },
      "source": [
        "s_pred[0:10, 0]"
      ],
      "execution_count": 0,
      "outputs": []
    },
    {
      "cell_type": "code",
      "metadata": {
        "id": "HFf8YaZNnTBC",
        "colab_type": "code",
        "colab": {}
      },
      "source": [
        "print(roc_auc_score(y_test, s_pred[:, 0]))"
      ],
      "execution_count": 0,
      "outputs": []
    },
    {
      "cell_type": "code",
      "metadata": {
        "id": "GphM26B9nTBG",
        "colab_type": "code",
        "colab": {}
      },
      "source": [
        "y_pred = (s_pred > 0.5).astype(int)\n",
        "print(classification_report(y_test, y_pred))"
      ],
      "execution_count": 0,
      "outputs": []
    },
    {
      "cell_type": "code",
      "metadata": {
        "id": "N5k0U7UosxwV",
        "colab_type": "code",
        "colab": {}
      },
      "source": [
        "thresholds = np.linspace(s_pred.min() + 1e-5, s_pred.max() - 1e-5, 101)\n",
        "precision = np.array([metrics.precision_score(y_test, s_pred > threshold) for threshold in thresholds])\n",
        "recall = np.array([metrics.recall_score(y_test, s_pred > threshold) for threshold in thresholds])\n",
        "f1 = np.array([metrics.f1_score(y_test, s_pred > threshold) for threshold in thresholds])\n",
        "tpr = np.array([(s_pred[y_test == 1] > threshold).mean() for threshold in thresholds])\n",
        "fpr = np.array([(s_pred[y_test == 0] > threshold).mean() for threshold in thresholds])\n",
        "\n",
        "best_f1 = thresholds[f1.argmax()]\n",
        "print(classification_report(y_test, (s_pred > best_f1).astype(int)))"
      ],
      "execution_count": 0,
      "outputs": []
    },
    {
      "cell_type": "code",
      "metadata": {
        "id": "mEMpjHQCnTBH",
        "colab_type": "code",
        "colab": {}
      },
      "source": [
        "fig = plt.figure(figsize=(12, 8))\n",
        "ax = fig.add_subplot(221)\n",
        "ax.set_title(f\"Recall x Precision\")\n",
        "ax.plot(precision, recall)\n",
        "\n",
        "ax = fig.add_subplot(222)\n",
        "ax.set_title(\"\")\n",
        "ax.plot(thresholds, precision, label=\"Precision\", color=\"green\")\n",
        "ax.plot(thresholds, recall, label=\"Recall\", color=\"blue\")\n",
        "ax.plot(thresholds, f1, label=\"F1\", color=\"red\")\n",
        "ax.axvline(best_f1, color='k', ls='--')\n",
        "ax.set_xlim(0, 1)\n",
        "ax.legend()\n",
        "\n",
        "ax = fig.add_subplot(223)\n",
        "ax.set_title(f\"ROC Curve - AUC\")\n",
        "ax.plot(fpr, tpr)\n",
        "\n",
        "ax = fig.add_subplot(224)\n",
        "ax.set_title(\"Positive Rates\")\n",
        "ax.plot(thresholds, tpr, label=\"TPR\")\n",
        "ax.plot(thresholds, fpr, label=\"FPR\")\n",
        "ax.set_xlim(0, 1)\n",
        "ax.legend()\n",
        "ax.axvline(best_f1, color='k', ls='--')\n",
        "\n",
        "\n",
        "fig.tight_layout()"
      ],
      "execution_count": 0,
      "outputs": []
    },
    {
      "cell_type": "code",
      "metadata": {
        "id": "fZboNn-7sq9X",
        "colab_type": "code",
        "colab": {}
      },
      "source": [
        ""
      ],
      "execution_count": 0,
      "outputs": []
    }
  ]
}